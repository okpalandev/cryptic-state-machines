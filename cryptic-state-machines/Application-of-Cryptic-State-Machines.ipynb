{
 "cells": [
  {
   "cell_type": "markdown",
   "metadata": {},
   "source": [
    "# Application of Cryptic State Machines\n",
    "\n",
    "## by Nnamdi Michael Okpala\n",
    "\n",
    "### Introduction:\n",
    "\n",
    "Within the realm of automata theory, there are two main types of state machine.A state machine is an abstract machine that move from one state to another.\n",
    "\n",
    "1) Behavioural State Machine:\n",
    "   A Behavioural State Machine is one that is conserend  of/within a system.A system is a collection of components working together. This is useful when modelling determinstic behaviour such as a:  game states.\n",
    "\n",
    "2) Protocol State Machine:\n",
    "   This state machine is conserned with **events**, amd is determinsitic by nature as it transition for one event to another. This is useful when modelling networking protocol which are event driven.\n",
    "\n",
    "3) Cryptic State Machine:\n",
    "   A cryptic state machine is a state machine which on encountering  the same **state** yield a different **transistions**. Unlike a typical **behavioural state** machine is determinstic by nature yielding the same **transistion** for the same **state**.This is a useful concepts as it is derived by how cryptic language worksThe means a cryptic state machine has loops.. By definition,A cryptic language has one obvious meaning which can be derived very easily,and another meaning which is harder to understand/ parse contextually. \n",
    "   for example:\n",
    "    - \"I never said she stole my money\" has seven different meanings depending on the stressed word.\n",
    "    \n",
    "    This can be used to create a cryptic service in which a cryptic(modelled from a cryptic state machine) algorithm runs given a given state machine.\n"
   ]
  },
  {
   "cell_type": "markdown",
   "metadata": {},
   "source": [
    "### Diagram for a Cryptic State Machine\n",
    "A hungry individual who will still remain **hungry** in the state **hungry** state until their have eaten enough entering a **full** state.This hungry state could  be two or more times meaning the NFA-to-DFA of a cryptic state machine would contains cyclic loops to the node itself for this given instance. \n"
   ]
  },
  {
   "cell_type": "code",
   "execution_count": 1,
   "metadata": {
    "vscode": {
     "languageId": "javascript"
    }
   },
   "outputs": [
    {
     "data": {
      "application/javascript": "// Load xstate module\nvar script = document.createElement('script');\nscript.src = 'https://cdn.jsdelivr.net/npm/xstate@4.17.1/dist/xstate.min.js';\ndocument.head.appendChild(script);\n\nconsole.log(script);\n// Use xstate module\nscript.onload = function() {\n    const { createMachine, interpret } = window.xstate;\n    const { inspect } = window['@xstate/inspect'];\n\n    inspect({\n        iframe: false\n    });\n\n    const hungryMachine = createMachine({\n        id: 'idle',\n        initial: 'idle',\n        states: {\n            idle: {\n                on: {\n                    EAT: 'hungry'\n                }\n            },\n            hungry: {\n                on: {\n                    EAT: 'idle',\n                    FULL: 'full'\n                }\n            },\n            full: {\n                type: 'final'\n            }\n        }\n    });\n\n    const service = interpret(hungryMachine)\n        .onTransition(state => {\n            console.log(state.value);\n        })\n        .start();\n\n    service.send('EAT');\n    console.log('The state is:', service.state.value); // 'hungry'\n\n    service.send('EAT');\n    console.log('The state is:', service.state.value); // 'hungry'\n\n    service.send('FULL');\n    console.log('The state is:', service.state.value); // 'full'\n};\n",
      "text/plain": [
       "<IPython.core.display.Javascript object>"
      ]
     },
     "metadata": {},
     "output_type": "display_data"
    }
   ],
   "source": [
    "%%javascript\n",
    "// Load xstate module\n",
    "var script = document.createElement('script');\n",
    "script.src = 'https://cdn.jsdelivr.net/npm/xstate@4.17.1/dist/xstate.min.js';\n",
    "document.head.appendChild(script);\n",
    "\n",
    "console.log(script);\n",
    "// Use xstate module\n",
    "script.onload = function() {\n",
    "    const { createMachine, interpret } = window.xstate;\n",
    "    const { inspect } = window['@xstate/inspect'];\n",
    "\n",
    "    inspect({\n",
    "        iframe: false\n",
    "    });\n",
    "    const hungryMachine = createMachine({\n",
    "        context: {},\n",
    "        id: \"idle\",\n",
    "        initial: \"idle\",\n",
    "        states: {\n",
    "          idle: {\n",
    "            on: {\n",
    "              EAT: {\n",
    "                target: \"hungry\",\n",
    "              },\n",
    "            },\n",
    "          },\n",
    "          hungry: {\n",
    "            on: {\n",
    "              EAT: {\n",
    "                target: \"idle\",\n",
    "              },\n",
    "              FULL: {\n",
    "                target: \"full\",\n",
    "              },\n",
    "            },\n",
    "          },\n",
    "          full: {\n",
    "            type: \"final\",\n",
    "          },\n",
    "        },\n",
    "      }).withConfig({});\n",
    "\n",
    "    const service = interpret(hungryMachine)\n",
    "        .onTransition(state => {\n",
    "            console.log(state.value);\n",
    "        })\n",
    "        .start();\n",
    "\n",
    "    service.send('EAT');\n",
    "    console.log('The state is:', service.state.value); // 'hungry'\n",
    "\n",
    "    service.send('EAT');\n",
    "    console.log('The state is:', service.state.value); // 'hungry'\n",
    "\n",
    "    service.send('FULL');\n",
    "    console.log('The state is:', service.state.value); // 'full'\n",
    "};"
   ]
  },
  {
   "cell_type": "markdown",
   "metadata": {
    "vscode": {
     "languageId": "javascript"
    }
   },
   "source": [
    "![Hungry Machine](../assets/hungrymachine.png \"Hungry Machine - A Cryptic State Machine\")"
   ]
  },
  {
   "cell_type": "markdown",
   "metadata": {},
   "source": []
  },
  {
   "cell_type": "code",
   "execution_count": null,
   "metadata": {},
   "outputs": [],
   "source": []
  }
 ],
 "metadata": {
  "kernelspec": {
   "display_name": "Python 3 (ipykernel)",
   "language": "python",
   "name": "python3"
  },
  "language_info": {
   "codemirror_mode": {
    "name": "ipython",
    "version": 3
   },
   "file_extension": ".py",
   "mimetype": "text/x-python",
   "name": "python",
   "nbconvert_exporter": "python",
   "pygments_lexer": "ipython3",
   "version": "3.9.18"
  }
 },
 "nbformat": 4,
 "nbformat_minor": 4
}
